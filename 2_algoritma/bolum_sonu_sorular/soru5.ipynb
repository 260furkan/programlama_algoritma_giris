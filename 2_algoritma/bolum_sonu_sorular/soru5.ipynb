{
 "cells": [
  {
   "cell_type": "code",
   "execution_count": 3,
   "id": "245472ba-7eab-4eee-b38f-c668dcbac91b",
   "metadata": {},
   "outputs": [
    {
     "name": "stdout",
     "output_type": "stream",
     "text": [
      "0 ve 2\n",
      "4 ve 4\n",
      "12 ve 6\n",
      "24 ve 8\n",
      "40 ve 10\n",
      "60 ve 12\n",
      "60\n",
      "T'nin son değeri = 60\n"
     ]
    }
   ],
   "source": [
    "T=0\n",
    "S=0\n",
    "\n",
    "while(1):\n",
    "    if S>10:\n",
    "        break\n",
    "    T=T+2*S\n",
    "    S=S+2\n",
    "    print(\"%d ve %d\" %(T,S) )\n",
    "    \n",
    "print(\"%d\" %T)\n",
    "\n",
    "print(\"T'nin son değeri = {}\".format(T) )"
   ]
  },
  {
   "cell_type": "code",
   "execution_count": null,
   "id": "0c8c2d88-4c2f-40df-a526-a34933282310",
   "metadata": {},
   "outputs": [],
   "source": []
  }
 ],
 "metadata": {
  "kernelspec": {
   "display_name": "Python 3 (ipykernel)",
   "language": "python",
   "name": "python3"
  },
  "language_info": {
   "codemirror_mode": {
    "name": "ipython",
    "version": 3
   },
   "file_extension": ".py",
   "mimetype": "text/x-python",
   "name": "python",
   "nbconvert_exporter": "python",
   "pygments_lexer": "ipython3",
   "version": "3.9.6"
  }
 },
 "nbformat": 4,
 "nbformat_minor": 5
}
