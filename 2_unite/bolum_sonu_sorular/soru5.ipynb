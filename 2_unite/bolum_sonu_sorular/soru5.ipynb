{
 "cells": [
  {
   "cell_type": "code",
   "execution_count": 2,
   "id": "6e19ed0d-aecc-4081-9f2b-55ee4a3c4f9b",
   "metadata": {},
   "outputs": [
    {
     "name": "stdout",
     "output_type": "stream",
     "text": [
      "40\n",
      "T'nin son değeri = 40\n"
     ]
    }
   ],
   "source": [
    "T=0\n",
    "S=0\n",
    "\n",
    "while(S<10):\n",
    "    T=T+2*S\n",
    "    S=S+2\n",
    "    \n",
    "print(\"%d\" %T)\n",
    "\n",
    "print(\"T'nin son değeri = {}\".format(T) )\n"
   ]
  },
  {
   "cell_type": "code",
   "execution_count": null,
   "id": "245472ba-7eab-4eee-b38f-c668dcbac91b",
   "metadata": {},
   "outputs": [],
   "source": []
  }
 ],
 "metadata": {
  "kernelspec": {
   "display_name": "Python 3 (ipykernel)",
   "language": "python",
   "name": "python3"
  },
  "language_info": {
   "codemirror_mode": {
    "name": "ipython",
    "version": 3
   },
   "file_extension": ".py",
   "mimetype": "text/x-python",
   "name": "python",
   "nbconvert_exporter": "python",
   "pygments_lexer": "ipython3",
   "version": "3.9.6"
  }
 },
 "nbformat": 4,
 "nbformat_minor": 5
}
